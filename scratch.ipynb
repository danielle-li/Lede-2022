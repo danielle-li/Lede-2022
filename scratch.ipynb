{
 "cells": [
  {
   "cell_type": "markdown",
   "id": "a972e73e",
   "metadata": {},
   "source": [
    "This is going to play with the pokemon.  Why does this look like crap?  .[https://docs.openbeta.io/faq]\n",
    "\n",
    "```python\n",
    "testy = \"url\"\n",
    "\n",
    "\n",
    "\n",
    "## YO ##\n"
   ]
  },
  {
   "cell_type": "code",
   "execution_count": 11,
   "id": "8b3986ed",
   "metadata": {},
   "outputs": [],
   "source": [
    "import requests\n",
    "\n",
    "url = \"https://pokeapi.co/api/v2/type/electric/\"\n",
    "response = requests.get(url)\n",
    "data = response.json()"
   ]
  },
  {
   "cell_type": "code",
   "execution_count": 13,
   "id": "c360ef9e",
   "metadata": {},
   "outputs": [
    {
     "data": {
      "text/plain": [
       "dict_keys(['damage_relations', 'game_indices', 'generation', 'id', 'move_damage_class', 'moves', 'name', 'names', 'past_damage_relations', 'pokemon'])"
      ]
     },
     "execution_count": 13,
     "metadata": {},
     "output_type": "execute_result"
    }
   ],
   "source": [
    "data.keys()\n"
   ]
  },
  {
   "cell_type": "code",
   "execution_count": 19,
   "id": "1dfda9be",
   "metadata": {},
   "outputs": [
    {
     "data": {
      "text/plain": [
       "'전기'"
      ]
     },
     "execution_count": 19,
     "metadata": {},
     "output_type": "execute_result"
    }
   ],
   "source": [
    "data['names'][1]['name']\n",
    "#Note data['name'] is the wrong one.  "
   ]
  },
  {
   "cell_type": "code",
   "execution_count": 22,
   "id": "8bed0348",
   "metadata": {},
   "outputs": [
    {
     "name": "stdout",
     "output_type": "stream",
     "text": [
      "['전기']\n"
     ]
    }
   ],
   "source": [
    "main_list=data['names']\n",
    "\n",
    "ko_lang_list=[item['name'] for item in main_list if item['language']['name']=='ko']\n",
    "print(ko_lang_list)"
   ]
  },
  {
   "cell_type": "code",
   "execution_count": null,
   "id": "ff86e5f0",
   "metadata": {},
   "outputs": [],
   "source": [
    "\n"
   ]
  }
 ],
 "metadata": {
  "kernelspec": {
   "display_name": "Python 3 (ipykernel)",
   "language": "python",
   "name": "python3"
  },
  "language_info": {
   "codemirror_mode": {
    "name": "ipython",
    "version": 3
   },
   "file_extension": ".py",
   "mimetype": "text/x-python",
   "name": "python",
   "nbconvert_exporter": "python",
   "pygments_lexer": "ipython3",
   "version": "3.10.3"
  }
 },
 "nbformat": 4,
 "nbformat_minor": 5
}
