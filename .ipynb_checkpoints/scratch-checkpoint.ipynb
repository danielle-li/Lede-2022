{
 "cells": [
  {
   "cell_type": "markdown",
   "id": "a972e73e",
   "metadata": {},
   "source": [
    "This is going to play with the pokemon.  Why does this look like crap?  .[https://docs.openbeta.io/faq]\n",
    "\n",
    "```python\n",
    "testy = \"url\"\n",
    "\n",
    "\n",
    "\n",
    "## YO ##\n"
   ]
  },
  {
   "cell_type": "code",
   "execution_count": 2,
   "id": "8b3986ed",
   "metadata": {},
   "outputs": [],
   "source": [
    "import requests\n",
    "\n",
    "url = \"https://pokeapi.co/api/v2/type/electric/\"\n",
    "response = requests.get(url)\n",
    "data = response.json()"
   ]
  },
  {
   "cell_type": "code",
   "execution_count": 1,
   "id": "c360ef9e",
   "metadata": {},
   "outputs": [
    {
     "ename": "NameError",
     "evalue": "name 'data' is not defined",
     "output_type": "error",
     "traceback": [
      "\u001b[0;31m---------------------------------------------------------------------------\u001b[0m",
      "\u001b[0;31mNameError\u001b[0m                                 Traceback (most recent call last)",
      "Input \u001b[0;32mIn [1]\u001b[0m, in \u001b[0;36m<cell line: 1>\u001b[0;34m()\u001b[0m\n\u001b[0;32m----> 1\u001b[0m \u001b[43mdata\u001b[49m\u001b[38;5;241m.\u001b[39mkeys()\n",
      "\u001b[0;31mNameError\u001b[0m: name 'data' is not defined"
     ]
    }
   ],
   "source": [
    "data.keys()\n"
   ]
  },
  {
   "cell_type": "code",
   "execution_count": 19,
   "id": "1dfda9be",
   "metadata": {},
   "outputs": [
    {
     "data": {
      "text/plain": [
       "'전기'"
      ]
     },
     "execution_count": 19,
     "metadata": {},
     "output_type": "execute_result"
    }
   ],
   "source": [
    "data['names'][1]['name']\n",
    "#Note data['name'] is the wrong one.  "
   ]
  },
  {
   "cell_type": "code",
   "execution_count": 22,
   "id": "8bed0348",
   "metadata": {},
   "outputs": [
    {
     "name": "stdout",
     "output_type": "stream",
     "text": [
      "['전기']\n"
     ]
    }
   ],
   "source": [
    "main_list=data['names']\n",
    "\n",
    "ko_lang_list=[item['name'] for item in main_list if item['language']['name']=='ko']\n",
    "print(ko_lang_list)"
   ]
  },
  {
   "cell_type": "code",
   "execution_count": null,
   "id": "ff86e5f0",
   "metadata": {},
   "outputs": [],
   "source": [
    "\n"
   ]
  }
 ],
 "metadata": {
  "kernelspec": {
   "display_name": "Python 3 (ipykernel)",
   "language": "python",
   "name": "python3"
  },
  "language_info": {
   "codemirror_mode": {
    "name": "ipython",
    "version": 3
   },
   "file_extension": ".py",
   "mimetype": "text/x-python",
   "name": "python",
   "nbconvert_exporter": "python",
   "pygments_lexer": "ipython3",
   "version": "3.10.3"
  }
 },
 "nbformat": 4,
 "nbformat_minor": 5
}
