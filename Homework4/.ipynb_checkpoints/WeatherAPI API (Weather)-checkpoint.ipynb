{
 "cells": [
  {
   "cell_type": "markdown",
   "metadata": {},
   "source": [
    "# WeatherAPI (Weather)\n",
    "\n",
    "Answer the following questions using [WeatherAPI](http://www.weatherapi.com/). I've added three cells for most questions but you're free to use more or less! Hold `Shift` and hit `Enter` to run a cell, and use the `+` on the top left to add a new cell to a notebook.\n",
    "\n",
    "Be sure to take advantage of both the documentation and the API Explorer!\n",
    "\n",
    "## 0) Import any libraries you might need / add the API key\n",
    "\n",
    "- *Tip: We're going to be downloading things from the internet, so we probably need `requests`.*\n",
    "- *Tip: Remember you only need to import requests once!*"
   ]
  },
  {
   "cell_type": "code",
   "execution_count": 1,
   "metadata": {},
   "outputs": [],
   "source": [
    "import requests"
   ]
  },
  {
   "cell_type": "code",
   "execution_count": 2,
   "metadata": {},
   "outputs": [],
   "source": [
    "api_key='ceead243ab0145c4a1b202923221306'"
   ]
  },
  {
   "cell_type": "code",
   "execution_count": null,
   "metadata": {},
   "outputs": [],
   "source": [
    "place='Chengdu'"
   ]
  },
  {
   "cell_type": "code",
   "execution_count": null,
   "metadata": {},
   "outputs": [],
   "source": [
    "date='2022-06-15'"
   ]
  },
  {
   "cell_type": "markdown",
   "metadata": {
    "collapsed": true
   },
   "source": [
    "## 1) Make a request to the Weather API for where you were born (or lived, or want to visit!).\n",
    "\n",
    "- *Tip: The URL we used in class was for a place near San Francisco. What was the format of the endpoint that made this happen?*\n",
    "- *Tip: Save the URL as a separate variable, and be sure to not have `[` and `]` inside.*\n",
    "- *Tip: How is north vs. south and east vs. west latitude/longitude represented? Is it the normal North/South/East/West?*\n",
    "- *Tip: You know it's JSON, but Python doesn't! Make sure you aren't trying to deal with plain text.* \n",
    "- *Tip: Once you've imported the JSON into a variable, check the timezone's name to make sure it seems like it got the right part of the world!*"
   ]
  },
  {
   "cell_type": "markdown",
   "metadata": {
    "collapsed": true
   },
   "source": [
    "## DL Note: I will do this for Chengdu, China.\n"
   ]
  },
  {
   "cell_type": "code",
   "execution_count": 3,
   "metadata": {
    "scrolled": true
   },
   "outputs": [
    {
     "name": "stdout",
     "output_type": "stream",
     "text": [
      "http://api.weatherapi.com/v1/current.json?key=ceead243ab0145c4a1b202923221306&q=Chengdu&aqi=no\n"
     ]
    }
   ],
   "source": [
    "#First, import stuff.\n",
    "\n",
    "url = 'http://api.weatherapi.com/v1/current.json'\n",
    "place='Chengdu'\n",
    "full_url=url+'?key='+api_key+'&q='+place+'&aqi=no'\n",
    "print(full_url)\n",
    "response = requests.get(full_url)\n",
    "# Turn the JSON into a dictionary\n",
    "current_weather = response.json()\n"
   ]
  },
  {
   "cell_type": "markdown",
   "metadata": {},
   "source": [
    "## 2) What's the current wind speed? How much warmer does it feel than it actually is?\n",
    "\n",
    "- *Tip: You can do this by browsing through the dictionaries, but it might be easier to read the documentation*\n",
    "- *Tip: For the second half: it **is** one temperature, and it **feels** a different temperature. Calculate the difference.*"
   ]
  },
  {
   "cell_type": "markdown",
   "metadata": {},
   "source": [
    "## Windspeed"
   ]
  },
  {
   "cell_type": "code",
   "execution_count": 4,
   "metadata": {},
   "outputs": [
    {
     "name": "stdout",
     "output_type": "stream",
     "text": [
      "The current windspeed is 2.2 MPH.\n"
     ]
    }
   ],
   "source": [
    "wind_speed=current_weather['current']['wind_mph']\n",
    "\n",
    "print(f\"The current windspeed is {wind_speed} MPH.\")"
   ]
  },
  {
   "cell_type": "markdown",
   "metadata": {},
   "source": [
    "## Feels - Actual Temp"
   ]
  },
  {
   "cell_type": "code",
   "execution_count": 10,
   "metadata": {},
   "outputs": [
    {
     "name": "stdout",
     "output_type": "stream",
     "text": [
      "Current temp: 69.8\n",
      "Current feels like: 69.8\n",
      "If feels the same as it is.\n"
     ]
    }
   ],
   "source": [
    "curr_temp_f=current_weather['current']['temp_f']\n",
    "print(\"Current temp:\",curr_temp_f)\n",
    "curr_feels_f=current_weather['current']['feelslike_f']\n",
    "print(\"Current feels like:\",curr_feels_f)\n",
    "\n",
    "if curr_feels_f>curr_temp_f:\n",
    "    print(f\"It feels {curr_feels_f-curr_temp_f:.2f} degrees F warmer.\")\n",
    "elif curr_feels_f<curr_temp_f:   \n",
    "    print(f\"It feels {curr_temp_f-curr_feels_f:.2f} degrees F colder.\")\n",
    "else:\n",
    "    print(\"If feels the same as it is.\")\n"
   ]
  },
  {
   "cell_type": "markdown",
   "metadata": {},
   "source": [
    "## 3) What is the API endpoint for moon-related information? For the place you decided on above, how much of the moon will be visible tomorrow?\n",
    "\n",
    "- *Tip: Check the documentation!*\n",
    "- *Tip: If you aren't sure what something means, ask in Slack*"
   ]
  },
  {
   "cell_type": "markdown",
   "metadata": {},
   "source": [
    "## Start by requesting new astro data"
   ]
  },
  {
   "cell_type": "code",
   "execution_count": 11,
   "metadata": {},
   "outputs": [
    {
     "name": "stdout",
     "output_type": "stream",
     "text": [
      "http://api.weatherapi.com/v1/astronomy.json?key=ceead243ab0145c4a1b202923221306&q=Chengdu&dt=2022-06-15\n"
     ]
    }
   ],
   "source": [
    "url = 'http://api.weatherapi.com/v1/astronomy.json'\n",
    "place='Chengdu'\n",
    "full_url=url+'?key='+api_key+'&q='+place+'&dt='+date\n",
    "print(full_url)\n",
    "response = requests.get(full_url)\n",
    "# Turn the JSON into a dictionary\n",
    "astro = response.json()"
   ]
  },
  {
   "cell_type": "markdown",
   "metadata": {},
   "source": [
    "## Now ask for moon visability"
   ]
  },
  {
   "cell_type": "code",
   "execution_count": 14,
   "metadata": {},
   "outputs": [
    {
     "name": "stdout",
     "output_type": "stream",
     "text": [
      "Full Moon\n"
     ]
    }
   ],
   "source": [
    "moon_vis=astro['astronomy']['astro']['moon_phase']\n",
    "print(moon_vis)"
   ]
  },
  {
   "cell_type": "markdown",
   "metadata": {},
   "source": [
    "## 4) What's the difference between the high and low temperatures for today?\n",
    "\n",
    "- *Tip: When you requested moon data, you probably overwrote your variables! If so, you'll need to make a new request.*"
   ]
  },
  {
   "cell_type": "markdown",
   "metadata": {},
   "source": [
    "## Get a new data pull\n",
    "(I can't find the max and min for the current weather pull, so just asking the historical data for today)"
   ]
  },
  {
   "cell_type": "code",
   "execution_count": 17,
   "metadata": {},
   "outputs": [
    {
     "name": "stdout",
     "output_type": "stream",
     "text": [
      "http://api.weatherapi.com/v1/history.json?key=ceead243ab0145c4a1b202923221306&q=Chengdu&dt=2022-06-15\n"
     ]
    }
   ],
   "source": [
    "url = 'http://api.weatherapi.com/v1/history.json'\n",
    "full_url=url+'?key='+api_key+'&q='+place+'&dt='+date\n",
    "print(full_url)\n",
    "response = requests.get(full_url)\n",
    "# Turn the JSON into a dictionary\n",
    "current_weather = response.json()"
   ]
  },
  {
   "cell_type": "code",
   "execution_count": 24,
   "metadata": {},
   "outputs": [
    {
     "name": "stdout",
     "output_type": "stream",
     "text": [
      "High temp: 92.8\n",
      "Low temp: 72.0\n",
      "The temp difference is 20.80 degrees F.\n"
     ]
    }
   ],
   "source": [
    "high_temp_f=current_weather['forecast']['forecastday'][0]['day']['maxtemp_f']\n",
    "print(\"High temp:\",high_temp_f)\n",
    "low_temp_f=current_weather['forecast']['forecastday'][0]['day']['mintemp_f']\n",
    "print(\"Low temp:\",low_temp_f)\n",
    "\n",
    "print(f\"The temp difference is {high_temp_f-low_temp_f:.2f} degrees F.\")\n"
   ]
  },
  {
   "cell_type": "markdown",
   "metadata": {
    "collapsed": true
   },
   "source": [
    "## 4.5) How can you avoid the \"oh no I don't have the data any more because I made another request\" problem in the future?\n",
    "\n",
    "What variable(s) do you have to rename, and what would you rename them?"
   ]
  },
  {
   "cell_type": "markdown",
   "metadata": {},
   "source": [
    "I would rewrite the url variable and save the resulting dataset a different name.  That way, when I ask for a specific thing, I would have something like \n",
    "```\n",
    "dataA.keys()\n",
    "dataB.keys()\n",
    "```"
   ]
  },
  {
   "cell_type": "markdown",
   "metadata": {},
   "source": [
    "## 5) Go through the daily forecasts, printing out the next three days' worth of predictions.\n",
    "\n",
    "I'd like to know the **high temperature** for each day, and whether it's **hot, warm, or cold** (based on what temperatures you think are hot, warm or cold).\n",
    "\n",
    "- *Tip: You'll need to use an `if` statement to say whether it is hot, warm or cold.*"
   ]
  },
  {
   "cell_type": "markdown",
   "metadata": {},
   "source": [
    "## Pull the 3 day forecast"
   ]
  },
  {
   "cell_type": "code",
   "execution_count": 25,
   "metadata": {},
   "outputs": [
    {
     "name": "stdout",
     "output_type": "stream",
     "text": [
      "http://api.weatherapi.com/v1/forecast.json?key=ceead243ab0145c4a1b202923221306&q=Chengdu&days=3&aqi=no&alerts=no\n"
     ]
    }
   ],
   "source": [
    "url = 'http://api.weatherapi.com/v1/forecast.json'\n",
    "days = '3'\n",
    "full_url=url+'?key='+api_key+'&q='+place+'&days='+days+'&aqi=no&alerts=no'\n",
    "print(full_url)\n",
    "response = requests.get(full_url)\n",
    "# Turn the JSON into a dictionary\n",
    "forecast_weather = response.json()"
   ]
  },
  {
   "cell_type": "markdown",
   "metadata": {},
   "source": [
    "## Do the analysis"
   ]
  },
  {
   "cell_type": "code",
   "execution_count": 27,
   "metadata": {},
   "outputs": [
    {
     "name": "stdout",
     "output_type": "stream",
     "text": [
      "The high temps are: [88.7, 90.3, 82.6]\n",
      "88.7 F. is hot\n",
      "90.3 F. is hot\n",
      "82.6 F. is hot\n"
     ]
    }
   ],
   "source": [
    "forecast_days=forecast_weather['forecast']['forecastday']\n",
    "\n",
    "forecast_maxtemp=[day['day']['maxtemp_f'] for day in forecast_days]\n",
    "print(\"The high temps are:\",forecast_maxtemp)\n",
    "\n",
    "for temp in forecast_maxtemp:\n",
    "    if temp>75:\n",
    "        print(f\"{temp} F. is hot\")\n",
    "    elif temp>65:\n",
    "        print(f\"{temp} F. is warm\")\n",
    "    else:\n",
    "        print(f\"{temp} F. is cold\")"
   ]
  },
  {
   "cell_type": "markdown",
   "metadata": {},
   "source": [
    "## 5b) The question above used to be an entire week, but not any more. Try to re-use the code above to print out seven days.\n",
    "\n",
    "What happens? Can you figure out why it doesn't work?\n",
    "\n",
    "* *Tip: it has to do with the reason you're using an API key - maybe take a look at the \"Air Quality Data\" introduction for a hint? If you can't figure it out right now, no worries.*"
   ]
  },
  {
   "cell_type": "markdown",
   "metadata": {},
   "source": [
    "## Here is my naive attempt, just changing days=7"
   ]
  },
  {
   "cell_type": "code",
   "execution_count": 28,
   "metadata": {},
   "outputs": [
    {
     "name": "stdout",
     "output_type": "stream",
     "text": [
      "http://api.weatherapi.com/v1/forecast.json?key=ceead243ab0145c4a1b202923221306&q=Chengdu&days=7&aqi=no&alerts=no\n"
     ]
    }
   ],
   "source": [
    "url = 'http://api.weatherapi.com/v1/forecast.json'\n",
    "days = '7'\n",
    "full_url=url+'?key='+api_key+'&q='+place+'&days='+days+'&aqi=no&alerts=no'\n",
    "print(full_url)\n",
    "response = requests.get(full_url)\n",
    "# Turn the JSON into a dictionary\n",
    "forecast_weather = response.json()"
   ]
  },
  {
   "cell_type": "code",
   "execution_count": 30,
   "metadata": {},
   "outputs": [
    {
     "name": "stdout",
     "output_type": "stream",
     "text": [
      "3\n",
      "The high temps are: [88.7, 90.3, 82.6]\n",
      "88.7 F. is hot\n",
      "90.3 F. is hot\n",
      "82.6 F. is hot\n"
     ]
    }
   ],
   "source": [
    "forecast_days=forecast_weather['forecast']['forecastday']\n",
    "print(len(forecast_days))\n",
    "\n",
    "\n",
    "forecast_maxtemp=[day['day']['maxtemp_f'] for day in forecast_days]\n",
    "print(\"The high temps are:\",forecast_maxtemp)\n",
    "\n",
    "for temp in forecast_maxtemp:\n",
    "    if temp>75:\n",
    "        print(f\"{temp} F. is hot\")\n",
    "    elif temp>65:\n",
    "        print(f\"{temp} F. is warm\")\n",
    "    else:\n",
    "        print(f\"{temp} F. is cold\")"
   ]
  },
  {
   "cell_type": "markdown",
   "metadata": {},
   "source": [
    "## I am still somehow only pulling 3 days rather than 7\n",
    "\n",
    "#### I looked at the air quality documentation, which says that air quality data is only for 3 days.  But I had turned aq off in my request so I am still not sure why it is not pulling 7 days.  Skipping for now.  \n",
    "\n",
    "# INCOMPLETE COME BACK TO THIS"
   ]
  },
  {
   "cell_type": "markdown",
   "metadata": {},
   "source": [
    "## 6) What will be the hottest day in the next three days? What is the high temperature on that day?"
   ]
  },
  {
   "cell_type": "code",
   "execution_count": 32,
   "metadata": {},
   "outputs": [
    {
     "ename": "SyntaxError",
     "evalue": "unterminated string literal (detected at line 11) (1869155430.py, line 11)",
     "output_type": "error",
     "traceback": [
      "\u001b[0;36m  Input \u001b[0;32mIn [32]\u001b[0;36m\u001b[0m\n\u001b[0;31m    print(f\"{day['date']} will be the hottest day, with a temperature of {day['day']['maxtemp_f']})\u001b[0m\n\u001b[0m          ^\u001b[0m\n\u001b[0;31mSyntaxError\u001b[0m\u001b[0;31m:\u001b[0m unterminated string literal (detected at line 11)\n"
     ]
    }
   ],
   "source": [
    "forecast_maxtemp=[day['day']['maxtemp_f'] for day in forecast_days]\n",
    "print(forecast_maxtemp)\n",
    "\n",
    "#9.  Print the day with the highest maximum temperature.\n",
    "\n",
    "###FINAL ANSWER HERE\n",
    "#Create a var that is equal to the max temp, and then print the day whose own max temp matches that\n",
    "max_temp_alldays=max(forecast_maxtemp)\n",
    "for day in forecast_days:\n",
    "    if day['day']['maxtemp_f']==max_temp_alldays:\n",
    "        print(f\"{day['date']} will be the hottest day, with a temperature of {day['day']['maxtemp_f']} F.\")\n"
   ]
  },
  {
   "cell_type": "code",
   "execution_count": null,
   "metadata": {},
   "outputs": [],
   "source": []
  },
  {
   "cell_type": "code",
   "execution_count": null,
   "metadata": {},
   "outputs": [],
   "source": []
  },
  {
   "cell_type": "markdown",
   "metadata": {},
   "source": [
    "## 7) What's the weather looking like for the next 24+ hours in Miami, Florida?\n",
    "\n",
    "I'd like to know the temperature for every hour, and if it's going to have cloud cover of more than 50% say \"{temperature} and cloudy\" instead of just the temperature. \n",
    "\n",
    "- *Tip: You'll only need one day of forecast*"
   ]
  },
  {
   "cell_type": "code",
   "execution_count": null,
   "metadata": {},
   "outputs": [],
   "source": []
  },
  {
   "cell_type": "code",
   "execution_count": null,
   "metadata": {},
   "outputs": [],
   "source": []
  },
  {
   "cell_type": "code",
   "execution_count": null,
   "metadata": {},
   "outputs": [],
   "source": []
  },
  {
   "cell_type": "markdown",
   "metadata": {},
   "source": [
    "## 8) For the next 24-ish hours in Miami, what percent of the time is the temperature above 85 degrees?\n",
    "\n",
    "- *Tip: You might want to read up on [looping patterns](http://jonathansoma.com/lede/foundations-2017/classes/data%20structures/looping-patterns/)*"
   ]
  },
  {
   "cell_type": "code",
   "execution_count": null,
   "metadata": {},
   "outputs": [],
   "source": []
  },
  {
   "cell_type": "code",
   "execution_count": null,
   "metadata": {},
   "outputs": [],
   "source": []
  },
  {
   "cell_type": "code",
   "execution_count": null,
   "metadata": {},
   "outputs": [],
   "source": []
  },
  {
   "cell_type": "markdown",
   "metadata": {},
   "source": [
    "## 9) How much will it cost if you need to use 1,500,000 API calls?\n",
    "\n",
    "You are only allowed 1,000,000 API calls each month. If you were really bad at this homework or made some awful loops, WeatherAPI might shut down your free access. \n",
    "\n",
    "* *Tip: this involves looking somewhere that isn't the normal documentation.*"
   ]
  },
  {
   "cell_type": "code",
   "execution_count": null,
   "metadata": {},
   "outputs": [],
   "source": []
  },
  {
   "cell_type": "code",
   "execution_count": null,
   "metadata": {},
   "outputs": [],
   "source": []
  },
  {
   "cell_type": "markdown",
   "metadata": {},
   "source": [
    "## 10) You're too poor to spend more money! What else could you do instead of give them money?\n",
    "\n",
    "* *Tip: I'm not endorsing being sneaky, but newsrooms and students are both generally poverty-stricken.*"
   ]
  },
  {
   "cell_type": "code",
   "execution_count": null,
   "metadata": {},
   "outputs": [],
   "source": []
  }
 ],
 "metadata": {
  "kernelspec": {
   "display_name": "Python 3 (ipykernel)",
   "language": "python",
   "name": "python3"
  },
  "language_info": {
   "codemirror_mode": {
    "name": "ipython",
    "version": 3
   },
   "file_extension": ".py",
   "mimetype": "text/x-python",
   "name": "python",
   "nbconvert_exporter": "python",
   "pygments_lexer": "ipython3",
   "version": "3.10.3"
  }
 },
 "nbformat": 4,
 "nbformat_minor": 1
}
