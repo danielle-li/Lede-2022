{
 "cells": [
  {
   "cell_type": "markdown",
   "metadata": {},
   "source": [
    "# Last FM API (Music)\n",
    "\n",
    "Spotify's API is dead to us, so we're using Last.fm's - it's still music, just not as nice of an API.\n",
    "\n",
    "1. Create an account at https://www.last.fm/api/\n",
    "2. Create an \"application\" to get a key: https://www.last.fm/api/account/create\n",
    "    - It isn't a real application, it's just your project\n",
    "    - Name/description doesn't matter, ignore callback key and callback url\n",
    "3. And save the API key that shows up on the next screen\n",
    "\n",
    "You can find documentation at https://www.last.fm/api/\n",
    "\n",
    "The domain for the API is `http://ws.audioscrobbler.com`, so all of your endpoints will be connected to that. To test your API key, check the following URL in your browser: `http://ws.audioscrobbler.com/2.0/?method=artist.search&artist=cher&api_key=XXXXXXXXXXXXXXXXXXXX&format=json` (change the `XXXXXX` to be your API key, of course!).\n",
    "\n",
    "> Last.fm used to be called **AudioScrobbler**, which is why its URLs don't have \"last.fm\" in them.\n",
    "> While we're asking about URLs, notice that the API endpoints have a lot of `?` and `&` in them - these are key/value pairs, kind of like dictionaries, but for URLs instead of Python."
   ]
  },
  {
   "cell_type": "markdown",
   "metadata": {},
   "source": [
    "# FIRST: SETUP"
   ]
  },
  {
   "cell_type": "markdown",
   "metadata": {},
   "source": [
    "## 1) Import the libraries/packages you might need\n",
    "\n",
    "We need a library to read in the data for us! We don't like `urllib2`, so it must be something cooler and better."
   ]
  },
  {
   "cell_type": "code",
   "execution_count": 1,
   "metadata": {},
   "outputs": [],
   "source": [
    "# Import what you need here\n",
    "\n",
    "import requests\n"
   ]
  },
  {
   "cell_type": "markdown",
   "metadata": {},
   "source": [
    "## 2) Save your API key\n",
    "\n",
    "Write your API key here so you don't forget it - it's the \"api key\" one, not the \"shared secret\" one"
   ]
  },
  {
   "cell_type": "code",
   "execution_count": 2,
   "metadata": {},
   "outputs": [],
   "source": [
    "api_key='9f1f0110c1d00c7a7124d968532527b8'\n",
    "\n",
    "url_root='http://ws.audioscrobbler.com/2.0/'"
   ]
  },
  {
   "cell_type": "markdown",
   "metadata": {},
   "source": [
    "## 3) The death of an API\n",
    "\n",
    "I used to have some code here that allowed you to display images, but _the images don't work any more._ Let this be an important lesson: when you depend on external services, they can die at any time."
   ]
  },
  {
   "cell_type": "code",
   "execution_count": null,
   "metadata": {},
   "outputs": [],
   "source": []
  },
  {
   "cell_type": "markdown",
   "metadata": {},
   "source": [
    "# NOW: YOUR ASSIGNMENT"
   ]
  },
  {
   "cell_type": "markdown",
   "metadata": {},
   "source": [
    "## 1) Search for and print a list of 50 musicians with `lil` in their name, along with the number of listeners they have\n",
    "\n",
    "There are a lot of musicians with \"Lil\" in their name - it used to be all Lil Wayne and Lil Kim, but we live in a new world now!\n",
    "\n",
    "- *Tip: Remember, the domain for the API is `http://ws.audioscrobbler.com`*\n",
    "- *Tip: Make sure you ask the API for 50 musicians! This involves adding another parameter to the URL - notice they all have a `&` before them. [Read the documentation](http://www.last.fm/api/show/artist.search) to find the parameter's name.* \n",
    "- *Tip: When you are looking at any piece of data - is it a dictionary? Look at the keys! Is it a list? Look at the first element!*\n",
    "- *Tip: LOOK AT THE KEYS. and then the other keys and the other keys and the other keys. It's an ugly series of dictionaries!*"
   ]
  },
  {
   "cell_type": "code",
   "execution_count": 3,
   "metadata": {},
   "outputs": [
    {
     "name": "stdout",
     "output_type": "stream",
     "text": [
      "http://ws.audioscrobbler.com/2.0/?method=artist.search&api_key=9f1f0110c1d00c7a7124d968532527b8&artist=Lil&limit=50&format=json\n"
     ]
    }
   ],
   "source": [
    "test_url='http://ws.audioscrobbler.com/2.0/?method=artist.search&api_key='+api_key+'&artist=Lil&limit=50&format=json'\n",
    "print(test_url)\n",
    "response = requests.get(test_url)\n",
    "lil_data = response.json()"
   ]
  },
  {
   "cell_type": "code",
   "execution_count": 4,
   "metadata": {},
   "outputs": [
    {
     "name": "stdout",
     "output_type": "stream",
     "text": [
      "dict_keys(['results'])\n",
      "dict_keys(['name', 'listeners', 'mbid', 'url', 'streamable', 'image'])\n",
      "50\n",
      "LIL UZI VERT has 1010095 listeners.\n",
      "LIL PEEP has 813261 listeners.\n",
      "Lil Nas X has 1377102 listeners.\n",
      "Lil' Wayne has 3377140 listeners.\n",
      "Lily Allen has 2507310 listeners.\n",
      "Lil Baby has 621932 listeners.\n",
      "Lil Tecca has 534853 listeners.\n",
      "Lil Yachty has 585224 listeners.\n",
      "lil tjay has 423988 listeners.\n",
      "Lil Wayne has 692806 listeners.\n",
      "Lil Durk has 371973 listeners.\n",
      "lil skies has 383287 listeners.\n",
      "Lil Darkie has 195888 listeners.\n",
      "lil Mosey has 468433 listeners.\n",
      "Lil Ugly Mane has 193618 listeners.\n",
      "Lil B has 321462 listeners.\n",
      "LIL PUMP has 409744 listeners.\n",
      "LIL TRACY has 152726 listeners.\n",
      "Lil Keed has 189341 listeners.\n",
      "Lil Dicky has 390762 listeners.\n",
      "Lil' Kim has 577339 listeners.\n",
      "Lil Xan has 261477 listeners.\n",
      "Lilly Wood & The Prick has 434468 listeners.\n",
      "Lil Loaded has 101158 listeners.\n",
      "Lilypichu has 67476 listeners.\n",
      "Lil Jon has 668892 listeners.\n",
      "LIL GNAR has 157492 listeners.\n",
      "Lil Jon & The East Side Boyz has 598128 listeners.\n",
      "lilbubblegum has 78519 listeners.\n",
      "Lilac has 205035 listeners.\n",
      "Lil Aaron has 118832 listeners.\n",
      "Fenne Lily has 211789 listeners.\n",
      "Lil Eazzyy has 122019 listeners.\n",
      "Lila Downs has 186376 listeners.\n",
      "Lil Gotit has 66476 listeners.\n",
      "LIL BO WEEP has 70763 listeners.\n",
      "Lily James has 119464 listeners.\n",
      "Lil Kleine has 70806 listeners.\n",
      "Lil Revive has 30056 listeners.\n",
      "Lil Boosie has 421526 listeners.\n",
      "The Tiger Lillies has 122120 listeners.\n",
      "LIL DUSTY G has 63033 listeners.\n",
      "Lil' Kleine has 68885 listeners.\n",
      "Lil Lotus has 56839 listeners.\n",
      "Lil Mariko has 65493 listeners.\n",
      "Lily Chou-Chou has 65026 listeners.\n",
      "Lil Wyte has 272366 listeners.\n",
      "Lil Boodang has 66503 listeners.\n",
      "Lil Candy Paint has 74969 listeners.\n",
      "Lil' Flip has 361256 listeners.\n"
     ]
    }
   ],
   "source": [
    "#print(lil_data)\n",
    "print(lil_data.keys())\n",
    "\n",
    "#This gets a list of dictionaries associated with artist matches\n",
    "print(lil_data['results']['artistmatches']['artist'][0].keys())\n",
    "\n",
    "lils_list=lil_data['results']['artistmatches']['artist']\n",
    "\n",
    "#Make sure there are 50 results\n",
    "print(len(lils_list))\n",
    "for lil in lils_list:\n",
    "    print(f\"{lil['name']} has {lil['listeners']} listeners.\")\n",
    "    \n",
    "    "
   ]
  },
  {
   "cell_type": "markdown",
   "metadata": {},
   "source": [
    "Your results should begin something like this:\n",
    "    \n",
    "```\n",
    "Lil' Wayne has 3086628 listeners\n",
    "Lily Allen has 2074266 listeners\n",
    "Lil B has 194116 listeners\n",
    "Lilly Wood & The Prick has 359886 listeners\n",
    "Lil Ugly Mane has 31955 listeners\n",
    "LIL UZI VERT has 88517 listeners\n",
    "```"
   ]
  },
  {
   "cell_type": "markdown",
   "metadata": {},
   "source": [
    "## 2) How many listeners does your list have in total?\n",
    "\n",
    "The answer should be roughly **15,000,000**. If it's lower, make sure you have 50 artists instead of 30 artists.\n",
    "\n",
    "- *Tip: What's the data type of the `listeners` count? It's going to cause a problem!*\n",
    "- *Tip: If you were crazy you could use sum and a list comprehension. But you really don't have to!*"
   ]
  },
  {
   "cell_type": "code",
   "execution_count": 5,
   "metadata": {},
   "outputs": [
    {
     "name": "stdout",
     "output_type": "stream",
     "text": [
      "[1010095, 813261, 1377102, 3377140, 2507310, 621932, 534853, 585224, 423988, 692806, 371973, 383287, 195888, 468433, 193618, 321462, 409744, 152726, 189341, 390762, 577339, 261477, 434468, 101158, 67476, 668892, 157492, 598128, 78519, 205035, 118832, 211789, 122019, 186376, 66476, 70763, 119464, 70806, 30056, 421526, 122120, 63033, 68885, 56839, 65493, 65026, 272366, 66503, 74969, 361256]\n",
      "The Lil's have a total of 20805526 listeners.\n"
     ]
    }
   ],
   "source": [
    "#Do the list comprehension\n",
    "lil_listens=[int(lil['listeners']) for lil in lils_list]\n",
    "print(lil_listens)\n",
    "\n",
    "#Print the sum of the listeners\n",
    "total_listeners=sum(lil_listens)\n",
    "print(f\"The Lil's have a total of {total_listeners} listeners.\")"
   ]
  },
  {
   "cell_type": "markdown",
   "metadata": {},
   "source": [
    "## 3) Show each artist's name and the URL to the extra-large image\n",
    "\n",
    "The images don't work any more, but we'll print their URLs out anyway."
   ]
  },
  {
   "cell_type": "markdown",
   "metadata": {},
   "source": [
    "Each artist **has a list of images of different sizes**. We're interested in the second-to-last one, where `size` is `extralarge`. Print their name and use `display_image` to display their extra-large image.\n",
    "\n",
    "- *Tip: The URL should look like this: `https://lastfm-img2.akamaized.net/i/u/300x300/0fc7d7a1812dc79e9925d80382cde594.png`*\n",
    "- *Tip: You can always assume it's the second to the last, or assume it's `extralarge`, or whatever you want to do to find it.*\n",
    "- *Tip: Make sure the URL is correct before you try to display it.*\n",
    "\n",
    "Your output should look something like\n",
    "\n",
    "```\n",
    "Lil' Wayne\n",
    "https://lastfm.freetls.fastly.net/i/u/300x300/2a96cbd8b46e442fc41c2b86b821562f.png\n",
    "---\n",
    "LIL UZI VERT\n",
    "https://lastfm.freetls.fastly.net/i/u/300x300/2a96cbd8b46e442fc41c2b86b821562f.png\n",
    "---\n",
    "Lily Allen\n",
    "https://lastfm.freetls.fastly.net/i/u/300x300/2a96cbd8b46e442fc41c2b86b821562f.png\n",
    "---\n",
    "```\n",
    "\n",
    "(but with more people, obviously)"
   ]
  },
  {
   "cell_type": "code",
   "execution_count": 6,
   "metadata": {},
   "outputs": [
    {
     "name": "stdout",
     "output_type": "stream",
     "text": [
      "dict_keys(['name', 'listeners', 'mbid', 'url', 'streamable', 'image'])\n",
      "dict_keys(['#text', 'size'])\n",
      "https://lastfm.freetls.fastly.net/i/u/34s/2a96cbd8b46e442fc41c2b86b821562f.png\n",
      "extralarge\n"
     ]
    }
   ],
   "source": [
    "#This is the list of artist results\n",
    "print(lil_data['results']['artistmatches']['artist'][0].keys())\n",
    "\n",
    "#Trying to find where the image urls are\n",
    "print(lil_data['results']['artistmatches']['artist'][0]['image'][0].keys())\n",
    "print(lil_data['results']['artistmatches']['artist'][0]['image'][0]['#text'])\n",
    "\n",
    "#Check which is the size associated with extralarge\n",
    "#It looks like the 4th item is the extra large but prob better to do an if statement for it\n",
    "print(lil_data['results']['artistmatches']['artist'][0]['image'][3]['size'])\n"
   ]
  },
  {
   "cell_type": "code",
   "execution_count": 7,
   "metadata": {},
   "outputs": [
    {
     "name": "stdout",
     "output_type": "stream",
     "text": [
      "---\n",
      "LIL UZI VERT\n",
      "https://lastfm.freetls.fastly.net/i/u/300x300/2a96cbd8b46e442fc41c2b86b821562f.png\n",
      "---\n",
      "LIL PEEP\n",
      "https://lastfm.freetls.fastly.net/i/u/300x300/2a96cbd8b46e442fc41c2b86b821562f.png\n",
      "---\n",
      "Lil Nas X\n",
      "https://lastfm.freetls.fastly.net/i/u/300x300/2a96cbd8b46e442fc41c2b86b821562f.png\n",
      "---\n",
      "Lil' Wayne\n",
      "https://lastfm.freetls.fastly.net/i/u/300x300/2a96cbd8b46e442fc41c2b86b821562f.png\n",
      "---\n",
      "Lily Allen\n",
      "https://lastfm.freetls.fastly.net/i/u/300x300/2a96cbd8b46e442fc41c2b86b821562f.png\n",
      "---\n",
      "Lil Baby\n",
      "https://lastfm.freetls.fastly.net/i/u/300x300/2a96cbd8b46e442fc41c2b86b821562f.png\n",
      "---\n",
      "Lil Tecca\n",
      "https://lastfm.freetls.fastly.net/i/u/300x300/2a96cbd8b46e442fc41c2b86b821562f.png\n",
      "---\n",
      "Lil Yachty\n",
      "https://lastfm.freetls.fastly.net/i/u/300x300/2a96cbd8b46e442fc41c2b86b821562f.png\n",
      "---\n",
      "lil tjay\n",
      "https://lastfm.freetls.fastly.net/i/u/300x300/2a96cbd8b46e442fc41c2b86b821562f.png\n",
      "---\n",
      "Lil Wayne\n",
      "https://lastfm.freetls.fastly.net/i/u/300x300/2a96cbd8b46e442fc41c2b86b821562f.png\n",
      "---\n",
      "Lil Durk\n",
      "https://lastfm.freetls.fastly.net/i/u/300x300/2a96cbd8b46e442fc41c2b86b821562f.png\n",
      "---\n",
      "lil skies\n",
      "https://lastfm.freetls.fastly.net/i/u/300x300/2a96cbd8b46e442fc41c2b86b821562f.png\n",
      "---\n",
      "Lil Darkie\n",
      "https://lastfm.freetls.fastly.net/i/u/300x300/2a96cbd8b46e442fc41c2b86b821562f.png\n",
      "---\n",
      "lil Mosey\n",
      "https://lastfm.freetls.fastly.net/i/u/300x300/2a96cbd8b46e442fc41c2b86b821562f.png\n",
      "---\n",
      "Lil Ugly Mane\n",
      "https://lastfm.freetls.fastly.net/i/u/300x300/2a96cbd8b46e442fc41c2b86b821562f.png\n",
      "---\n",
      "Lil B\n",
      "https://lastfm.freetls.fastly.net/i/u/300x300/2a96cbd8b46e442fc41c2b86b821562f.png\n",
      "---\n",
      "LIL PUMP\n",
      "https://lastfm.freetls.fastly.net/i/u/300x300/2a96cbd8b46e442fc41c2b86b821562f.png\n",
      "---\n",
      "LIL TRACY\n",
      "https://lastfm.freetls.fastly.net/i/u/300x300/2a96cbd8b46e442fc41c2b86b821562f.png\n",
      "---\n",
      "Lil Keed\n",
      "https://lastfm.freetls.fastly.net/i/u/300x300/2a96cbd8b46e442fc41c2b86b821562f.png\n",
      "---\n",
      "Lil Dicky\n",
      "https://lastfm.freetls.fastly.net/i/u/300x300/2a96cbd8b46e442fc41c2b86b821562f.png\n",
      "---\n",
      "Lil' Kim\n",
      "https://lastfm.freetls.fastly.net/i/u/300x300/2a96cbd8b46e442fc41c2b86b821562f.png\n",
      "---\n",
      "Lil Xan\n",
      "https://lastfm.freetls.fastly.net/i/u/300x300/2a96cbd8b46e442fc41c2b86b821562f.png\n",
      "---\n",
      "Lilly Wood & The Prick\n",
      "https://lastfm.freetls.fastly.net/i/u/300x300/2a96cbd8b46e442fc41c2b86b821562f.png\n",
      "---\n",
      "Lil Loaded\n",
      "https://lastfm.freetls.fastly.net/i/u/300x300/2a96cbd8b46e442fc41c2b86b821562f.png\n",
      "---\n",
      "Lilypichu\n",
      "https://lastfm.freetls.fastly.net/i/u/300x300/2a96cbd8b46e442fc41c2b86b821562f.png\n",
      "---\n",
      "Lil Jon\n",
      "https://lastfm.freetls.fastly.net/i/u/300x300/2a96cbd8b46e442fc41c2b86b821562f.png\n",
      "---\n",
      "LIL GNAR\n",
      "https://lastfm.freetls.fastly.net/i/u/300x300/2a96cbd8b46e442fc41c2b86b821562f.png\n",
      "---\n",
      "Lil Jon & The East Side Boyz\n",
      "https://lastfm.freetls.fastly.net/i/u/300x300/2a96cbd8b46e442fc41c2b86b821562f.png\n",
      "---\n",
      "lilbubblegum\n",
      "https://lastfm.freetls.fastly.net/i/u/300x300/2a96cbd8b46e442fc41c2b86b821562f.png\n",
      "---\n",
      "Lilac\n",
      "https://lastfm.freetls.fastly.net/i/u/300x300/2a96cbd8b46e442fc41c2b86b821562f.png\n",
      "---\n",
      "Lil Aaron\n",
      "https://lastfm.freetls.fastly.net/i/u/300x300/2a96cbd8b46e442fc41c2b86b821562f.png\n",
      "---\n",
      "Fenne Lily\n",
      "https://lastfm.freetls.fastly.net/i/u/300x300/2a96cbd8b46e442fc41c2b86b821562f.png\n",
      "---\n",
      "Lil Eazzyy\n",
      "https://lastfm.freetls.fastly.net/i/u/300x300/2a96cbd8b46e442fc41c2b86b821562f.png\n",
      "---\n",
      "Lila Downs\n",
      "https://lastfm.freetls.fastly.net/i/u/300x300/2a96cbd8b46e442fc41c2b86b821562f.png\n",
      "---\n",
      "Lil Gotit\n",
      "https://lastfm.freetls.fastly.net/i/u/300x300/2a96cbd8b46e442fc41c2b86b821562f.png\n",
      "---\n",
      "LIL BO WEEP\n",
      "https://lastfm.freetls.fastly.net/i/u/300x300/2a96cbd8b46e442fc41c2b86b821562f.png\n",
      "---\n",
      "Lily James\n",
      "https://lastfm.freetls.fastly.net/i/u/300x300/2a96cbd8b46e442fc41c2b86b821562f.png\n",
      "---\n",
      "Lil Kleine\n",
      "https://lastfm.freetls.fastly.net/i/u/300x300/2a96cbd8b46e442fc41c2b86b821562f.png\n",
      "---\n",
      "Lil Revive\n",
      "https://lastfm.freetls.fastly.net/i/u/300x300/2a96cbd8b46e442fc41c2b86b821562f.png\n",
      "---\n",
      "Lil Boosie\n",
      "https://lastfm.freetls.fastly.net/i/u/300x300/2a96cbd8b46e442fc41c2b86b821562f.png\n",
      "---\n",
      "The Tiger Lillies\n",
      "https://lastfm.freetls.fastly.net/i/u/300x300/2a96cbd8b46e442fc41c2b86b821562f.png\n",
      "---\n",
      "LIL DUSTY G\n",
      "https://lastfm.freetls.fastly.net/i/u/300x300/2a96cbd8b46e442fc41c2b86b821562f.png\n",
      "---\n",
      "Lil' Kleine\n",
      "https://lastfm.freetls.fastly.net/i/u/300x300/2a96cbd8b46e442fc41c2b86b821562f.png\n",
      "---\n",
      "Lil Lotus\n",
      "https://lastfm.freetls.fastly.net/i/u/300x300/2a96cbd8b46e442fc41c2b86b821562f.png\n",
      "---\n",
      "Lil Mariko\n",
      "https://lastfm.freetls.fastly.net/i/u/300x300/2a96cbd8b46e442fc41c2b86b821562f.png\n",
      "---\n",
      "Lily Chou-Chou\n",
      "https://lastfm.freetls.fastly.net/i/u/300x300/2a96cbd8b46e442fc41c2b86b821562f.png\n",
      "---\n",
      "Lil Wyte\n",
      "https://lastfm.freetls.fastly.net/i/u/300x300/2a96cbd8b46e442fc41c2b86b821562f.png\n",
      "---\n",
      "Lil Boodang\n",
      "https://lastfm.freetls.fastly.net/i/u/300x300/2a96cbd8b46e442fc41c2b86b821562f.png\n",
      "---\n",
      "Lil Candy Paint\n",
      "https://lastfm.freetls.fastly.net/i/u/300x300/2a96cbd8b46e442fc41c2b86b821562f.png\n",
      "---\n",
      "Lil' Flip\n",
      "https://lastfm.freetls.fastly.net/i/u/300x300/2a96cbd8b46e442fc41c2b86b821562f.png\n"
     ]
    }
   ],
   "source": [
    "#Now actually print the results\n",
    "for lil in lils_list:\n",
    "    print('---')\n",
    "    print(lil['name'])\n",
    "    for item in lil['image']:\n",
    "        if item['size']=='extralarge':\n",
    "            print(item['#text']) "
   ]
  },
  {
   "cell_type": "markdown",
   "metadata": {},
   "source": [
    "## 4) Find Lil Jon's `mbid` (or anyone else's!).\n",
    "\n",
    "Oftentimes in an API, you can do a few things: you can **search** for items, and you can **see more information** about items. To find more information about the item, you need to use their **unique id**. In this dataset, it's called an `mbid` (MusicBrainz, I think - another company associated with last.fm!).\n",
    "\n",
    "Go through the artists and print their **name and mbid**. Find Lil Jon's `mbid`. I *wanted* Lil Uzi Vert's, but for some reason it isn't there. Then I wanted us to look at Lily Allen's, but I just couldn't bring myself to do that. If you'd rather do someone else, go for it."
   ]
  },
  {
   "cell_type": "code",
   "execution_count": null,
   "metadata": {},
   "outputs": [],
   "source": [
    "\n"
   ]
  },
  {
   "cell_type": "code",
   "execution_count": null,
   "metadata": {},
   "outputs": [],
   "source": []
  },
  {
   "cell_type": "markdown",
   "metadata": {
    "collapsed": true
   },
   "source": [
    "## 5) Find the artist's name and bio using their `mbid`.\n",
    "\n",
    "It can either be Lil Jon or whoever you selected above.\n",
    "\n",
    "If you look at the [last.fm documentation](http://www.last.fm/api/show/artist.getInfo), you can see how to use the artist's `mbid` to find more information about them. Print **every tag associated with your artist**.\n",
    "\n",
    "- *Tip: It's a new request to the API*\n",
    "- *Tip: Use the `mbid`, and make sure you delete the `&name=Cher` from the sample endpoint*\n",
    "- *Tip: If you use `print` for the bio it looks a little nicer than it would otherwise*"
   ]
  },
  {
   "cell_type": "markdown",
   "metadata": {},
   "source": [
    "### Ok, start by getting the mbid"
   ]
  },
  {
   "cell_type": "code",
   "execution_count": 8,
   "metadata": {},
   "outputs": [
    {
     "name": "stdout",
     "output_type": "stream",
     "text": [
      "Name: Lil Ugly Mane\n",
      "mbid: 5f1adfe1-4d07-4141-b181-79e5d379d539\n"
     ]
    }
   ],
   "source": [
    "#Okay.  Let's do Lil Ugly Mane\n",
    "lils_list=lil_data['results']['artistmatches']['artist']\n",
    "for lil in lils_list:\n",
    "    if lil['name']=='Lil Ugly Mane':\n",
    "        print(\"Name:\", lil['name'])\n",
    "        print(\"mbid:\", lil['mbid'])\n"
   ]
  },
  {
   "cell_type": "markdown",
   "metadata": {},
   "source": [
    "### Now, get the artist bio"
   ]
  },
  {
   "cell_type": "code",
   "execution_count": 9,
   "metadata": {},
   "outputs": [
    {
     "name": "stdout",
     "output_type": "stream",
     "text": [
      "http://ws.audioscrobbler.com/2.0/?method=artist.getinfo&api_key=9f1f0110c1d00c7a7124d968532527b8&mbid=5f1adfe1-4d07-4141-b181-79e5d379d539&format=json\n",
      "dict_keys(['artist'])\n",
      "dict_keys(['name', 'mbid', 'url', 'image', 'streamable', 'ontour', 'stats', 'similar', 'tags', 'bio'])\n",
      "------\n",
      "Lil Ugly Mane\n",
      " Lil Ugly Mane is the most popular stage name for Travis Miller (born May 13, 1984), a multi-genre American recording artist and music producer from Richmond, Virginia. He is best known for his 2012 album Mista Thug Isolation and his 2015 album Oblivion Access. In early 2017, Miller announced he would be releasing further music under a new alias Bedwetter. \n",
      " <a href=\"https://www.last.fm/music/Lil+Ugly+Mane\">Read more on Last.fm</a>\n"
     ]
    }
   ],
   "source": [
    "#Artist bio info in get info.\n",
    "mbid='5f1adfe1-4d07-4141-b181-79e5d379d539'\n",
    "url='http://ws.audioscrobbler.com/2.0/?method=artist.getinfo&api_key='+api_key+'&mbid='+mbid+'&format=json'\n",
    "print(url)\n",
    "response = requests.get(url)\n",
    "artist_data = response.json()\n",
    "\n",
    "#Now print the info\n",
    "print(artist_data.keys())\n",
    "print(artist_data['artist'].keys())\n",
    "#print(artist_data['artist']['bio'])\n",
    "\n",
    "#Print the bio\n",
    "print(\"------\")\n",
    "print(artist_data['artist']['name'])\n",
    "print(artist_data['artist']['bio']['summary'])"
   ]
  },
  {
   "cell_type": "markdown",
   "metadata": {
    "collapsed": true
   },
   "source": [
    "## 6) Print every tag of that artist"
   ]
  },
  {
   "cell_type": "code",
   "execution_count": 10,
   "metadata": {},
   "outputs": [
    {
     "name": "stdout",
     "output_type": "stream",
     "text": [
      "[{'name': 'Hip-Hop', 'url': 'https://www.last.fm/tag/Hip-Hop'}, {'name': 'memphis rap', 'url': 'https://www.last.fm/tag/memphis+rap'}, {'name': 'Lo-Fi', 'url': 'https://www.last.fm/tag/Lo-Fi'}, {'name': 'Gangsta Rap', 'url': 'https://www.last.fm/tag/Gangsta+Rap'}, {'name': 'Trill Shit', 'url': 'https://www.last.fm/tag/Trill+Shit'}]\n",
      "------\n",
      "Hip-Hop\n",
      "------\n",
      "memphis rap\n",
      "------\n",
      "Lo-Fi\n",
      "------\n",
      "Gangsta Rap\n",
      "------\n",
      "Trill Shit\n"
     ]
    }
   ],
   "source": [
    "\n",
    "print(artist_data['artist']['tags']['tag'])\n",
    "tag_list=artist_data['artist']['tags']['tag']\n",
    "\n",
    "for tag in tag_list:\n",
    "    print('------')\n",
    "    print(tag['name'])"
   ]
  },
  {
   "cell_type": "code",
   "execution_count": null,
   "metadata": {},
   "outputs": [],
   "source": []
  },
  {
   "cell_type": "markdown",
   "metadata": {},
   "source": [
    "# GETTING A LITTLE CRAZY\n",
    "\n",
    "So you know your original list of musicians? I want to get tag data for ALL OF THEM. How are we going to do that?\n",
    "\n",
    "## 7) Find the mbids (again)\n",
    "\n",
    "If we have a musician with an mbid of `AAA-AAA-AAA`, we get their info from a url like `http://ws.audioscrobbler.com/blahblah/?api_key=12345&mbid=AAA-AAA-AAA`.\n",
    "\n",
    "|artist|url|\n",
    "|---|---|\n",
    "|`AAA-AAA-AAA`|`http://ws.audioscrobbler.com/blahblah/?api_key=12345&mbid=AAA-AAA-AAA`|\n",
    "|`BBB-BBB-BBB`|`http://ws.audioscrobbler.com/blahblah/?api_key=12345&mbid=BBB-BBB-BBB`|\n",
    "|`CCC-CCC-CCC`|`http://ws.audioscrobbler.com/blahblah/?api_key=12345&mbid=CCC-CCC-CCC`|\n",
    "\n",
    "I guess we should start trying to get a list of all of the mbids.\n",
    "\n",
    "**Loop through your artists, and print out the `mbid` for each artist**\n",
    "\n",
    "- *Tip: You probably need to request your artist search result data again, because you probably saved over `data` with your other API request. Maybe call it `artist_data` this time?*\n",
    "- *Tip: If the artist does NOT have an `mbid`, don't print it.*"
   ]
  },
  {
   "cell_type": "code",
   "execution_count": 11,
   "metadata": {
    "scrolled": false
   },
   "outputs": [
    {
     "name": "stdout",
     "output_type": "stream",
     "text": [
      "6e0c7c0e-cba5-4c2c-a652-38f71ef5785d\n",
      "ac9a487a-d9d2-4f27-bb23-0f4686488345\n",
      "c9cd225b-4883-428e-82c2-73e0b6282fb6\n",
      "5f1adfe1-4d07-4141-b181-79e5d379d539\n",
      "1550f952-c91b-40d7-9b4d-d26a259ee932\n",
      "3268f062-6e76-480a-a384-e1dd2a276afb\n",
      "bc1b5c95-e6d6-46b5-957a-5e8908b02c1e\n",
      "1b72331b-3a97-4981-a81c-eeee9c275d28\n",
      "a95384b1-6aec-468c-ae0d-8c6daf87c4c2\n",
      "243c6f61-d83b-4459-bebd-5899df0da111\n",
      "1967c6ce-95a4-48f0-8ac7-abe637524aee\n",
      "ad29ae1c-2eda-4071-9dc8-31910e7e546c\n",
      "8ba17cf6-bec2-4ae4-9820-b1cda47adc08\n",
      "3ad4f6ec-253f-4050-8849-ca26266edfb8\n",
      "5652bb3e-f225-49de-9637-5aa1539b4a7c\n",
      "9b5ce0c1-1bc0-4ea2-a8d3-f5ee7af9eda8\n",
      "981d39fc-bd00-4cc6-ac67-6410f8b89098\n"
     ]
    }
   ],
   "source": [
    "#Create a list of the Lil's again, from your lil_data pull.\n",
    "\n",
    "lils_list=lil_data['results']['artistmatches']['artist']\n",
    "for lil in lils_list:\n",
    "    if lil['mbid']!='':\n",
    "        print(lil['mbid'])"
   ]
  },
  {
   "cell_type": "markdown",
   "metadata": {},
   "source": [
    "Your results should look something like\n",
    "\n",
    "```\n",
    "6e0c7c0e-cba5-4c2c-a652-38f71ef5785d\n",
    "1550f952-c91b-40d7-9b4d-d26a259ee932\n",
    "1b72331b-3a97-4981-a81c-eeee9c275d28\n",
    "5f1adfe1-4d07-4141-b181-79e5d379d539\n",
    "a95384b1-6aec-468c-ae0d-8c6daf87c4c2\n",
    "bc1b5c95-e6d6-46b5-957a-5e8908b02c1e\n",
    "243c6f61-d83b-4459-bebd-5899df0da111\n",
    "```"
   ]
  },
  {
   "cell_type": "markdown",
   "metadata": {},
   "source": [
    "## 8) Saving those mbids\n",
    "\n",
    "For those `mbid` values, instead of printing them out, save them to a new list of just mbid values. Call this list `mbids`.\n",
    "\n",
    "- *Tip: Use `.append` to add a single element onto a list*"
   ]
  },
  {
   "cell_type": "code",
   "execution_count": 12,
   "metadata": {},
   "outputs": [
    {
     "name": "stdout",
     "output_type": "stream",
     "text": [
      "['6e0c7c0e-cba5-4c2c-a652-38f71ef5785d',\n",
      " 'ac9a487a-d9d2-4f27-bb23-0f4686488345',\n",
      " 'c9cd225b-4883-428e-82c2-73e0b6282fb6',\n",
      " '5f1adfe1-4d07-4141-b181-79e5d379d539',\n",
      " '1550f952-c91b-40d7-9b4d-d26a259ee932',\n",
      " '3268f062-6e76-480a-a384-e1dd2a276afb',\n",
      " 'bc1b5c95-e6d6-46b5-957a-5e8908b02c1e',\n",
      " '1b72331b-3a97-4981-a81c-eeee9c275d28',\n",
      " 'a95384b1-6aec-468c-ae0d-8c6daf87c4c2',\n",
      " '243c6f61-d83b-4459-bebd-5899df0da111',\n",
      " '1967c6ce-95a4-48f0-8ac7-abe637524aee',\n",
      " 'ad29ae1c-2eda-4071-9dc8-31910e7e546c',\n",
      " '8ba17cf6-bec2-4ae4-9820-b1cda47adc08',\n",
      " '3ad4f6ec-253f-4050-8849-ca26266edfb8',\n",
      " '5652bb3e-f225-49de-9637-5aa1539b4a7c',\n",
      " '9b5ce0c1-1bc0-4ea2-a8d3-f5ee7af9eda8',\n",
      " '981d39fc-bd00-4cc6-ac67-6410f8b89098']\n"
     ]
    }
   ],
   "source": [
    "mbid_list=[]\n",
    "lils_list=lil_data['results']['artistmatches']['artist']\n",
    "for lil in lils_list:\n",
    "    if lil['mbid']!='':\n",
    "        mbid_list.append(lil['mbid'])\n",
    "import pprint\n",
    "pprint.pprint(mbid_list)"
   ]
  },
  {
   "cell_type": "markdown",
   "metadata": {},
   "source": [
    "Your results should look something like\n",
    "\n",
    "```['6e0c7c0e-cba5-4c2c-a652-38f71ef5785d',\n",
    " '1550f952-c91b-40d7-9b4d-d26a259ee932',\n",
    " '1b72331b-3a97-4981-a81c-eeee9c275d28',\n",
    " '5f1adfe1-4d07-4141-b181-79e5d379d539',\n",
    " 'a95384b1-6aec-468c-ae0d-8c6daf87c4c2',\n",
    " 'bc1b5c95-e6d6-46b5-957a-5e8908b02c1e',\n",
    " '243c6f61-d83b-4459-bebd-5899df0da111',\n",
    " '8ba17cf6-bec2-4ae4-9820-b1cda47adc08',\n",
    " 'ad29ae1c-2eda-4071-9dc8-31910e7e546c',\n",
    " '3268f062-6e76-480a-a384-e1dd2a276afb',\n",
    " '3ad4f6ec-253f-4050-8849-ca26266edfb8',\n",
    " '9b5ce0c1-1bc0-4ea2-a8d3-f5ee7af9eda8',\n",
    " '981d39fc-bd00-4cc6-ac67-6410f8b89098',\n",
    " 'b89f4c50-72f5-48ce-b08c-a643b191b24f',\n",
    " 'bc21df5c-3d79-479b-b638-8ddb5ecea403',\n",
    " 'c9cd225b-4883-428e-82c2-73e0b6282fb6',\n",
    " '9acaf734-b380-4c48-954c-a2cf1d7990a9',\n",
    " 'd4d5ae85-700c-4a55-8a39-7f923da07ef2',\n",
    " '77fafce8-a32f-4d42-bdce-266bbf913cee',\n",
    " '50ad1cde-1536-4268-a55f-e47a7b8280ab',\n",
    " '9803d120-716d-45ba-9eb7-9a120813f908',\n",
    " 'b27560ea-2783-4a91-be45-9e8711917562',\n",
    " '194e87c9-b3fe-4fbd-82a7-8c54b4dd4c76',\n",
    " 'fd90af91-ed07-4e85-8816-26c954fe5286',\n",
    " '5652bb3e-f225-49de-9637-5aa1539b4a7c']```"
   ]
  },
  {
   "cell_type": "markdown",
   "metadata": {},
   "source": [
    "## 9) Printing our API urls\n",
    "\n",
    "To get tag data for each artist, you need to use those `mbid` values to access their artist page on the API. Loop through the mbids, displying the URL you'll need to access.\n",
    "\n",
    "- *Tip: You don't want to use a comma when printing, because commas add spaces into your text and URLs can't have that*\n",
    "- *Tip: Make sure your URL has `artist.getinfo` in it - if not, you're using the wrong endpoint.*"
   ]
  },
  {
   "cell_type": "code",
   "execution_count": 13,
   "metadata": {},
   "outputs": [
    {
     "name": "stdout",
     "output_type": "stream",
     "text": [
      "http://ws.audioscrobbler.com/2.0/?method=artist.getinfo&api_key=9f1f0110c1d00c7a7124d968532527b8&mbid=6e0c7c0e-cba5-4c2c-a652-38f71ef5785d&format=json\n",
      "http://ws.audioscrobbler.com/2.0/?method=artist.getinfo&api_key=9f1f0110c1d00c7a7124d968532527b8&mbid=ac9a487a-d9d2-4f27-bb23-0f4686488345&format=json\n",
      "http://ws.audioscrobbler.com/2.0/?method=artist.getinfo&api_key=9f1f0110c1d00c7a7124d968532527b8&mbid=c9cd225b-4883-428e-82c2-73e0b6282fb6&format=json\n",
      "http://ws.audioscrobbler.com/2.0/?method=artist.getinfo&api_key=9f1f0110c1d00c7a7124d968532527b8&mbid=5f1adfe1-4d07-4141-b181-79e5d379d539&format=json\n",
      "http://ws.audioscrobbler.com/2.0/?method=artist.getinfo&api_key=9f1f0110c1d00c7a7124d968532527b8&mbid=1550f952-c91b-40d7-9b4d-d26a259ee932&format=json\n",
      "http://ws.audioscrobbler.com/2.0/?method=artist.getinfo&api_key=9f1f0110c1d00c7a7124d968532527b8&mbid=3268f062-6e76-480a-a384-e1dd2a276afb&format=json\n",
      "http://ws.audioscrobbler.com/2.0/?method=artist.getinfo&api_key=9f1f0110c1d00c7a7124d968532527b8&mbid=bc1b5c95-e6d6-46b5-957a-5e8908b02c1e&format=json\n",
      "http://ws.audioscrobbler.com/2.0/?method=artist.getinfo&api_key=9f1f0110c1d00c7a7124d968532527b8&mbid=1b72331b-3a97-4981-a81c-eeee9c275d28&format=json\n",
      "http://ws.audioscrobbler.com/2.0/?method=artist.getinfo&api_key=9f1f0110c1d00c7a7124d968532527b8&mbid=a95384b1-6aec-468c-ae0d-8c6daf87c4c2&format=json\n",
      "http://ws.audioscrobbler.com/2.0/?method=artist.getinfo&api_key=9f1f0110c1d00c7a7124d968532527b8&mbid=243c6f61-d83b-4459-bebd-5899df0da111&format=json\n",
      "http://ws.audioscrobbler.com/2.0/?method=artist.getinfo&api_key=9f1f0110c1d00c7a7124d968532527b8&mbid=1967c6ce-95a4-48f0-8ac7-abe637524aee&format=json\n",
      "http://ws.audioscrobbler.com/2.0/?method=artist.getinfo&api_key=9f1f0110c1d00c7a7124d968532527b8&mbid=ad29ae1c-2eda-4071-9dc8-31910e7e546c&format=json\n",
      "http://ws.audioscrobbler.com/2.0/?method=artist.getinfo&api_key=9f1f0110c1d00c7a7124d968532527b8&mbid=8ba17cf6-bec2-4ae4-9820-b1cda47adc08&format=json\n",
      "http://ws.audioscrobbler.com/2.0/?method=artist.getinfo&api_key=9f1f0110c1d00c7a7124d968532527b8&mbid=3ad4f6ec-253f-4050-8849-ca26266edfb8&format=json\n",
      "http://ws.audioscrobbler.com/2.0/?method=artist.getinfo&api_key=9f1f0110c1d00c7a7124d968532527b8&mbid=5652bb3e-f225-49de-9637-5aa1539b4a7c&format=json\n",
      "http://ws.audioscrobbler.com/2.0/?method=artist.getinfo&api_key=9f1f0110c1d00c7a7124d968532527b8&mbid=9b5ce0c1-1bc0-4ea2-a8d3-f5ee7af9eda8&format=json\n",
      "http://ws.audioscrobbler.com/2.0/?method=artist.getinfo&api_key=9f1f0110c1d00c7a7124d968532527b8&mbid=981d39fc-bd00-4cc6-ac67-6410f8b89098&format=json\n"
     ]
    }
   ],
   "source": [
    "for mbid in mbid_list:\n",
    "    url='http://ws.audioscrobbler.com/2.0/?method=artist.getinfo&api_key='+api_key+'&mbid='+mbid+'&format=json'\n",
    "    print(url)\n"
   ]
  },
  {
   "cell_type": "markdown",
   "metadata": {},
   "source": [
    "Your results should look something like\n",
    "\n",
    "```http://ws.audioscrobbler.com/2.0/?method=artist.getinfo&api_key=XXXXX&format=json&mbid=6e0c7c0e-cba5-4c2c-a652-38f71ef5785d\n",
    "http://ws.audioscrobbler.com/2.0/?method=artist.getinfo&api_key=XXXXX&format=json&mbid=1550f952-c91b-40d7-9b4d-d26a259ee932\n",
    "http://ws.audioscrobbler.com/2.0/?method=artist.getinfo&api_key=XXXXX&format=json&mbid=1b72331b-3a97-4981-a81c-eeee9c275d28\n",
    "http://ws.audioscrobbler.com/2.0/?method=artist.getinfo&api_key=XXXXX&format=json&mbid=5f1adfe1-4d07-4141-b181-79e5d379d539\n",
    "http://ws.audioscrobbler.com/2.0/?method=artist.getinfo&api_key=XXXXX&format=json&mbid=a95384b1-6aec-468c-ae0d-8c6daf87c4c2\n",
    "http://ws.audioscrobbler.com/2.0/?method=artist.getinfo&api_key=XXXXX&format=json&mbid=bc1b5c95-e6d6-46b5-957a-5e8908b02c1e```"
   ]
  },
  {
   "cell_type": "markdown",
   "metadata": {},
   "source": [
    "## OKAY HERE IS A LITTLE INFORMATION: Using our API urls\n",
    "\n",
    "This time instead of just *displaying* the URL, we're going to *request and process it*. **But first I'm going to teach you something.**\n",
    "\n",
    "When you're dealing with an API, you don't want to make a million requests, have bad code, and then need to do those million requests again. It's usually best to test your code with a few of the results first.\n",
    "\n",
    "So, if we have a list of numbers like this:"
   ]
  },
  {
   "cell_type": "code",
   "execution_count": 14,
   "metadata": {},
   "outputs": [
    {
     "data": {
      "text/plain": [
       "[4, 5, 6, 7]"
      ]
     },
     "execution_count": 14,
     "metadata": {},
     "output_type": "execute_result"
    }
   ],
   "source": [
    "numbers = [4, 5, 6, 7]\n",
    "numbers"
   ]
  },
  {
   "cell_type": "markdown",
   "metadata": {},
   "source": [
    "You can actually say to Python, **give me the first two**, and it will only give you the first two."
   ]
  },
  {
   "cell_type": "code",
   "execution_count": 15,
   "metadata": {},
   "outputs": [
    {
     "data": {
      "text/plain": [
       "[4, 5]"
      ]
     },
     "execution_count": 15,
     "metadata": {},
     "output_type": "execute_result"
    }
   ],
   "source": [
    "numbers[:2]"
   ]
  },
  {
   "cell_type": "markdown",
   "metadata": {},
   "source": [
    "The is **very convenient** with loopng with APIs, because instead of trying to use all FIFTY artists, you can just say \"hey, please try this out with 2 of them\" and you don't waste time."
   ]
  },
  {
   "cell_type": "markdown",
   "metadata": {},
   "source": [
    "## 10) Using the first three `mbids`, request the API urls and print the artist's name.\n",
    "\n",
    "You built the URLs in the last question, now it's time to use them! Use `requests` etc to grab the URL and get out the artist's name.\n",
    "\n",
    "- *Tip: The code is the same as last time you got an artist's name from their info page, it's just going to be inside of a loop*\n",
    "- *Tip: USE `PRINT` TO SEE WHAT YOU ARE LOOKING AT!!!!!*"
   ]
  },
  {
   "cell_type": "code",
   "execution_count": 54,
   "metadata": {},
   "outputs": [
    {
     "name": "stdout",
     "output_type": "stream",
     "text": [
      "-----Getting data for mbid: 6e0c7c0e-cba5-4c2c-a652-38f71ef5785d from http://ws.audioscrobbler.com/2.0/?method=artist.getinfo&api_key=9f1f0110c1d00c7a7124d968532527b8&mbid=6e0c7c0e-cba5-4c2c-a652-38f71ef5785d&format=json ------\n",
      "Lily Allen\n",
      "-----Getting data for mbid: ac9a487a-d9d2-4f27-bb23-0f4686488345 from http://ws.audioscrobbler.com/2.0/?method=artist.getinfo&api_key=9f1f0110c1d00c7a7124d968532527b8&mbid=ac9a487a-d9d2-4f27-bb23-0f4686488345&format=json ------\n",
      "Lil Wayne\n",
      "-----Getting data for mbid: c9cd225b-4883-428e-82c2-73e0b6282fb6 from http://ws.audioscrobbler.com/2.0/?method=artist.getinfo&api_key=9f1f0110c1d00c7a7124d968532527b8&mbid=c9cd225b-4883-428e-82c2-73e0b6282fb6&format=json ------\n",
      "Lil Durk\n",
      "-----Getting data for mbid: 5f1adfe1-4d07-4141-b181-79e5d379d539 from http://ws.audioscrobbler.com/2.0/?method=artist.getinfo&api_key=9f1f0110c1d00c7a7124d968532527b8&mbid=5f1adfe1-4d07-4141-b181-79e5d379d539&format=json ------\n",
      "Lil Ugly Mane\n",
      "-----Getting data for mbid: 1550f952-c91b-40d7-9b4d-d26a259ee932 from http://ws.audioscrobbler.com/2.0/?method=artist.getinfo&api_key=9f1f0110c1d00c7a7124d968532527b8&mbid=1550f952-c91b-40d7-9b4d-d26a259ee932&format=json ------\n",
      "Lil B\n",
      "-----Getting data for mbid: 3268f062-6e76-480a-a384-e1dd2a276afb from http://ws.audioscrobbler.com/2.0/?method=artist.getinfo&api_key=9f1f0110c1d00c7a7124d968532527b8&mbid=3268f062-6e76-480a-a384-e1dd2a276afb&format=json ------\n",
      "Lil Dicky\n",
      "-----Getting data for mbid: bc1b5c95-e6d6-46b5-957a-5e8908b02c1e from http://ws.audioscrobbler.com/2.0/?method=artist.getinfo&api_key=9f1f0110c1d00c7a7124d968532527b8&mbid=bc1b5c95-e6d6-46b5-957a-5e8908b02c1e&format=json ------\n",
      "Lil' Kim\n",
      "-----Getting data for mbid: 1b72331b-3a97-4981-a81c-eeee9c275d28 from http://ws.audioscrobbler.com/2.0/?method=artist.getinfo&api_key=9f1f0110c1d00c7a7124d968532527b8&mbid=1b72331b-3a97-4981-a81c-eeee9c275d28&format=json ------\n",
      "Lilly Wood & The Prick\n",
      "-----Getting data for mbid: a95384b1-6aec-468c-ae0d-8c6daf87c4c2 from http://ws.audioscrobbler.com/2.0/?method=artist.getinfo&api_key=9f1f0110c1d00c7a7124d968532527b8&mbid=a95384b1-6aec-468c-ae0d-8c6daf87c4c2&format=json ------\n",
      "Lil Jon\n",
      "-----Getting data for mbid: 243c6f61-d83b-4459-bebd-5899df0da111 from http://ws.audioscrobbler.com/2.0/?method=artist.getinfo&api_key=9f1f0110c1d00c7a7124d968532527b8&mbid=243c6f61-d83b-4459-bebd-5899df0da111&format=json ------\n",
      "Lil Jon & The East Side Boyz\n",
      "-----Getting data for mbid: 1967c6ce-95a4-48f0-8ac7-abe637524aee from http://ws.audioscrobbler.com/2.0/?method=artist.getinfo&api_key=9f1f0110c1d00c7a7124d968532527b8&mbid=1967c6ce-95a4-48f0-8ac7-abe637524aee&format=json ------\n",
      "Lilac\n",
      "-----Getting data for mbid: ad29ae1c-2eda-4071-9dc8-31910e7e546c from http://ws.audioscrobbler.com/2.0/?method=artist.getinfo&api_key=9f1f0110c1d00c7a7124d968532527b8&mbid=ad29ae1c-2eda-4071-9dc8-31910e7e546c&format=json ------\n",
      "Lila Downs\n",
      "-----Getting data for mbid: 8ba17cf6-bec2-4ae4-9820-b1cda47adc08 from http://ws.audioscrobbler.com/2.0/?method=artist.getinfo&api_key=9f1f0110c1d00c7a7124d968532527b8&mbid=8ba17cf6-bec2-4ae4-9820-b1cda47adc08&format=json ------\n",
      "Lil Boosie\n",
      "-----Getting data for mbid: 3ad4f6ec-253f-4050-8849-ca26266edfb8 from http://ws.audioscrobbler.com/2.0/?method=artist.getinfo&api_key=9f1f0110c1d00c7a7124d968532527b8&mbid=3ad4f6ec-253f-4050-8849-ca26266edfb8&format=json ------\n",
      "The Tiger Lillies\n",
      "-----Getting data for mbid: 5652bb3e-f225-49de-9637-5aa1539b4a7c from http://ws.audioscrobbler.com/2.0/?method=artist.getinfo&api_key=9f1f0110c1d00c7a7124d968532527b8&mbid=5652bb3e-f225-49de-9637-5aa1539b4a7c&format=json ------\n",
      "Lily Chou-Chou\n",
      "-----Getting data for mbid: 9b5ce0c1-1bc0-4ea2-a8d3-f5ee7af9eda8 from http://ws.audioscrobbler.com/2.0/?method=artist.getinfo&api_key=9f1f0110c1d00c7a7124d968532527b8&mbid=9b5ce0c1-1bc0-4ea2-a8d3-f5ee7af9eda8&format=json ------\n",
      "Lil Wyte\n",
      "-----Getting data for mbid: 981d39fc-bd00-4cc6-ac67-6410f8b89098 from http://ws.audioscrobbler.com/2.0/?method=artist.getinfo&api_key=9f1f0110c1d00c7a7124d968532527b8&mbid=981d39fc-bd00-4cc6-ac67-6410f8b89098&format=json ------\n",
      "Lil' Flip\n"
     ]
    }
   ],
   "source": [
    "#Just testing that this works in a loop\n",
    "#for mbid in mbid_list[:3]:\n",
    " #   url='http://ws.audioscrobbler.com/2.0/?method=artist.getinfo&api_key='+api_key+'&mbid='+mbid+'&format=json'\n",
    " #   print(url)\n",
    "\n",
    "# for mbid in mbid_list[:3]:\n",
    "#     url='http://ws.audioscrobbler.com/2.0/?method=artist.getinfo&api_key='+api_key+'&mbid='+mbid+'&format=json'\n",
    "#     print(url)\n",
    "    \n",
    "    \n",
    "#Now actually do it\n",
    "for mbid in mbid_list:\n",
    "    url='http://ws.audioscrobbler.com/2.0/?method=artist.getinfo&api_key='+api_key+'&mbid='+mbid+'&format=json'\n",
    "    print(f\"-----Getting data for mbid: {mbid} from {url} ------\")\n",
    "    response = requests.get(url)\n",
    "    mbid_data = response.json()\n",
    "    print(mbid_data['artist']['name'])\n"
   ]
  },
  {
   "cell_type": "markdown",
   "metadata": {},
   "source": [
    "## 11) Using the first three `mbids`, request the API urls and print the artist's name and their tags\n",
    "\n",
    "- *Tip: The code is the same as last time you got an artist's name from their info page, it's just going to be inside of a loop*\n",
    "- *Tip: It's a for loop in a for loop!*"
   ]
  },
  {
   "cell_type": "code",
   "execution_count": 62,
   "metadata": {},
   "outputs": [
    {
     "name": "stdout",
     "output_type": "stream",
     "text": [
      "-----Getting data for mbid: 6e0c7c0e-cba5-4c2c-a652-38f71ef5785d from http://ws.audioscrobbler.com/2.0/?method=artist.getinfo&api_key=9f1f0110c1d00c7a7124d968532527b8&mbid=6e0c7c0e-cba5-4c2c-a652-38f71ef5785d&format=json------\n",
      "Lily Allen\n",
      "pop\n",
      "female vocalists\n",
      "british\n",
      "britpop\n",
      "singer-songwriter\n",
      "-----Getting data for mbid: ac9a487a-d9d2-4f27-bb23-0f4686488345 from http://ws.audioscrobbler.com/2.0/?method=artist.getinfo&api_key=9f1f0110c1d00c7a7124d968532527b8&mbid=ac9a487a-d9d2-4f27-bb23-0f4686488345&format=json------\n",
      "Lil Wayne\n",
      "rap\n",
      "Hip-Hop\n",
      "hip hop\n",
      "Gangsta Rap\n",
      "Dirty South\n",
      "-----Getting data for mbid: c9cd225b-4883-428e-82c2-73e0b6282fb6 from http://ws.audioscrobbler.com/2.0/?method=artist.getinfo&api_key=9f1f0110c1d00c7a7124d968532527b8&mbid=c9cd225b-4883-428e-82c2-73e0b6282fb6&format=json------\n",
      "Lil Durk\n",
      "rap\n",
      "Hip-Hop\n",
      "drill\n",
      "trap\n",
      "hip hop\n",
      "-----Getting data for mbid: 5f1adfe1-4d07-4141-b181-79e5d379d539 from http://ws.audioscrobbler.com/2.0/?method=artist.getinfo&api_key=9f1f0110c1d00c7a7124d968532527b8&mbid=5f1adfe1-4d07-4141-b181-79e5d379d539&format=json------\n",
      "Lil Ugly Mane\n",
      "Hip-Hop\n",
      "memphis rap\n",
      "Lo-Fi\n",
      "Gangsta Rap\n",
      "Trill Shit\n",
      "-----Getting data for mbid: 1550f952-c91b-40d7-9b4d-d26a259ee932 from http://ws.audioscrobbler.com/2.0/?method=artist.getinfo&api_key=9f1f0110c1d00c7a7124d968532527b8&mbid=1550f952-c91b-40d7-9b4d-d26a259ee932&format=json------\n",
      "Lil B\n",
      "based\n",
      "Hip-Hop\n",
      "swag\n",
      "real recognize real and this nigga the realest\n",
      "rap\n",
      "-----Getting data for mbid: 3268f062-6e76-480a-a384-e1dd2a276afb from http://ws.audioscrobbler.com/2.0/?method=artist.getinfo&api_key=9f1f0110c1d00c7a7124d968532527b8&mbid=3268f062-6e76-480a-a384-e1dd2a276afb&format=json------\n",
      "Lil Dicky\n",
      "Hip-Hop\n",
      "rap\n",
      "comedy\n",
      "hip hop\n",
      "seen live\n",
      "-----Getting data for mbid: bc1b5c95-e6d6-46b5-957a-5e8908b02c1e from http://ws.audioscrobbler.com/2.0/?method=artist.getinfo&api_key=9f1f0110c1d00c7a7124d968532527b8&mbid=bc1b5c95-e6d6-46b5-957a-5e8908b02c1e&format=json------\n",
      "Lil' Kim\n",
      "Hip-Hop\n",
      "rap\n",
      "hip hop\n",
      "female vocalists\n",
      "rnb\n",
      "-----Getting data for mbid: 1b72331b-3a97-4981-a81c-eeee9c275d28 from http://ws.audioscrobbler.com/2.0/?method=artist.getinfo&api_key=9f1f0110c1d00c7a7124d968532527b8&mbid=1b72331b-3a97-4981-a81c-eeee9c275d28&format=json------\n",
      "Lilly Wood & The Prick\n",
      "french\n",
      "indie\n",
      "indie pop\n",
      "folk\n",
      "female vocalists\n",
      "-----Getting data for mbid: a95384b1-6aec-468c-ae0d-8c6daf87c4c2 from http://ws.audioscrobbler.com/2.0/?method=artist.getinfo&api_key=9f1f0110c1d00c7a7124d968532527b8&mbid=a95384b1-6aec-468c-ae0d-8c6daf87c4c2&format=json------\n",
      "Lil Jon\n",
      "Crunk\n",
      "Hip-Hop\n",
      "rap\n",
      "Dirty South\n",
      "hip hop\n"
     ]
    }
   ],
   "source": [
    "\n",
    "for mbid in mbid_list[:9]:\n",
    "    url='http://ws.audioscrobbler.com/2.0/?method=artist.getinfo&api_key='+api_key+'&mbid='+mbid+'&format=json'\n",
    "    print(f\"-----Getting data for mbid: {mbid} from {url}------\")\n",
    "    response = requests.get(url)\n",
    "    mbid_data = response.json()\n",
    "    print(mbid_data['artist']['name'])\n",
    "    tag_list=mbid_data['artist']['tags']['tag']\n",
    "    for tag in tag_list:\n",
    "        print(tag['name'])\n",
    "    \n",
    "    \n"
   ]
  },
  {
   "cell_type": "markdown",
   "metadata": {},
   "source": [
    "## 12) Using the first ten mbids, print the artist's name and whether they're a rapper\n",
    "\n",
    "Only print their name ONCE and only print whether they are hip hop or not ONCE.\n",
    "\n",
    "- *Tip: Rap tags include hip hop, swag, crunk, rap, dirty south, and probably a bunch of other stuff! You can include as many categories as you'd like.*\n",
    "- *Tip: You can use `2 in [1, 2, 3]` to find out if `2` is in the list of `[1, 2, 3]`.*\n",
    "- *Tip: Every time you look at a new artist, you can say they are NOT a rapper. And once you find out one of their tags is hip hop or rap, then you can note that they're a rapper. Then once you're done looking at their tags, then you can say HEY this is a rapper, or HEY this is not a rapper.*"
   ]
  },
  {
   "cell_type": "code",
   "execution_count": 66,
   "metadata": {},
   "outputs": [
    {
     "name": "stdout",
     "output_type": "stream",
     "text": [
      "-----ARITST: Lily Allen\n",
      "NO, is not a rapper\n",
      "-----ARITST: Lil Wayne\n",
      "YES, is a rapper\n",
      "-----ARITST: Lil Durk\n",
      "YES, is a rapper\n",
      "-----ARITST: Lil Ugly Mane\n",
      "YES, is a rapper\n",
      "-----ARITST: Lil B\n",
      "YES, is a rapper\n",
      "-----ARITST: Lil Dicky\n",
      "YES, is a rapper\n",
      "-----ARITST: Lil' Kim\n",
      "YES, is a rapper\n",
      "-----ARITST: Lilly Wood & The Prick\n",
      "NO, is not a rapper\n",
      "-----ARITST: Lil Jon\n",
      "YES, is a rapper\n"
     ]
    }
   ],
   "source": [
    "rap_tags=['hip-hop', 'swag', 'crunk', 'rap', 'dirty south']\n",
    "is_rapper=0\n",
    "artist_count=0\n",
    "rapper_count=0\n",
    "for mbid in mbid_list[:9]:\n",
    "    artist_count=artist_count+1\n",
    "    url='http://ws.audioscrobbler.com/2.0/?method=artist.getinfo&api_key='+api_key+'&mbid='+mbid+'&format=json'\n",
    "    response = requests.get(url)\n",
    "    mbid_data = response.json()\n",
    "    print(f\"-----ARITST: {mbid_data['artist']['name']}\")\n",
    "    tag_list=mbid_data['artist']['tags']['tag']\n",
    "    for tag in tag_list:\n",
    "    #    print(tag['name'])\n",
    "        for rap_tag in rap_tags:\n",
    "             if rap_tag.lower() in tag['name'].lower():\n",
    "                #print(\"YES:\", tag['name'])\n",
    "                is_rapper=1\n",
    "    if is_rapper==1:\n",
    "        print(\"YES, is a rapper\")\n",
    "        rapper_count=rapper_count+1\n",
    "    else:\n",
    "        print(\"NO, is not a rapper\")\n",
    "    #reset is_rapper to 0 for next person\n",
    "    is_rapper=0"
   ]
  },
  {
   "cell_type": "markdown",
   "metadata": {},
   "source": [
    "Your results might look something like\n",
    "\n",
    "```ARTIST: Lily Allen\n",
    "NO hip hop\n",
    "ARTIST: Lil B\n",
    "YES hip hop\n",
    "ARTIST: Lilly Wood & The Prick\n",
    "NO hip hop\n",
    "ARTIST: Lil Ugly Mane\n",
    "YES hip hop\n",
    "ARTIST: Lil Jon\n",
    "YES hip hop\n",
    "ARTIST: Lil' Kim\n",
    "YES hip hop\n",
    "ARTIST: Lil Jon & The East Side Boyz\n",
    "YES hip hop\n",
    "```"
   ]
  },
  {
   "cell_type": "markdown",
   "metadata": {
    "collapsed": true
   },
   "source": [
    "## 13) What percent of \"lil\" results are rappers?"
   ]
  },
  {
   "cell_type": "code",
   "execution_count": 67,
   "metadata": {
    "scrolled": true
   },
   "outputs": [
    {
     "name": "stdout",
     "output_type": "stream",
     "text": [
      "77.78%\n"
     ]
    }
   ],
   "source": [
    "print(f\"{(rapper_count/artist_count)*100:.2f}%\")"
   ]
  },
  {
   "cell_type": "markdown",
   "metadata": {},
   "source": [
    "## 14) Seriously you are all-powerful now."
   ]
  },
  {
   "cell_type": "code",
   "execution_count": null,
   "metadata": {},
   "outputs": [],
   "source": []
  }
 ],
 "metadata": {
  "kernelspec": {
   "display_name": "Python 3 (ipykernel)",
   "language": "python",
   "name": "python3"
  },
  "language_info": {
   "codemirror_mode": {
    "name": "ipython",
    "version": 3
   },
   "file_extension": ".py",
   "mimetype": "text/x-python",
   "name": "python",
   "nbconvert_exporter": "python",
   "pygments_lexer": "ipython3",
   "version": "3.10.3"
  }
 },
 "nbformat": 4,
 "nbformat_minor": 1
}
